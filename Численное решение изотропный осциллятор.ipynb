{
 "cells": [
  {
   "cell_type": "code",
   "execution_count": 1,
   "metadata": {
    "collapsed": true
   },
   "outputs": [],
   "source": [
    "import numpy as np\n",
    "import matplotlib.pyplot as plt\n",
    "%matplotlib inline"
   ]
  },
  {
   "cell_type": "markdown",
   "metadata": {},
   "source": [
    "# Расчет спектра электрона в сферически симметричных потенциалах"
   ]
  },
  {
   "cell_type": "markdown",
   "metadata": {},
   "source": [
    "Мы рассматриваем частицу в трехмерном пространстве.\n",
    "\n",
    "Сферически симметричный потенциал - функция, зависящая только от расстояния до центра кординат. Найти спектр электрона (значения возможной энергии) - найти собственные значения Гамильтониана $\\hat{H} =- \\dfrac{\\hbar}{\\ {2}{m}} \\nabla^2  + V(\\textbf{x}).$"
   ]
  },
  {
   "cell_type": "markdown",
   "metadata": {},
   "source": [
    "Общий вид уравнения Шредингера:\n",
    "$$i \\hbar \\frac{\\partial \\Psi(\\textbf{x}, t)}{\\partial t} = H \\Psi(\\textbf{x},t),$$\n",
    "    $$i \\hbar \\frac{\\partial  \\Psi}{\\partial t} = -\\frac{\\hbar^2}{2m}\\nabla^2  \\Psi + V  \\Psi,$$\n",
    "    где $\\nabla^2$ есть Лапласиан."
   ]
  },
  {
   "cell_type": "markdown",
   "metadata": {},
   "source": [
    "Time-independent уравнение Шредингера имеет вид:\n",
    "    $$(\\frac{\\hbar^2}{2m}\\nabla^2 +V)\\psi = E \\psi$$\n",
    "Предположим, что решение иммет вид:\n",
    "$$\\psi (r, \\theta, \\phi) = R(r)Y(\\theta, \\phi)$$\n",
    "\n",
    "В случае сферически симметричного потенциала функция, зависящая от углов, нас не интересует, поскольку она одна и та же для всех потенциалов.\n",
    "\n",
    "А вот радиальная часть будет разной для каждого потенциала, и радиальное уравнение в  общем случае:\n",
    "\n",
    "$$-\\frac{\\hbar^2}{2m}\\frac{d^2 u}{d r^2}+[V+\\frac{\\hbar^2}{2m}\\frac{l(l+1)}{r^2}]u = Eu,$$\n",
    "\n",
    "где $u(r) = r R(r).$ \n",
    "\n",
    "В случае  $l=0$ имеем:\n",
    "$$-\\frac{\\hbar^2}{2m}\\frac{d^2 u}{d r^2}+Vu = Eu,$$"
   ]
  },
  {
   "cell_type": "markdown",
   "metadata": {},
   "source": [
    "$$-\\frac{\\hbar^2}{2m}u''+Vu = Eu.$$\n",
    "\n",
    "При переходе в атомные единицы $\\hbar = 1, m=1:$\n",
    "$$-\\frac{u''}{2}+Vu = Eu,$$\n",
    "\n",
    "$$u'' +(-2V)u = (-2E)u,$$\n",
    "\n",
    "$$(\\frac{d^2}{d r^2}-2V)u = (-2E)u$$"
   ]
  },
  {
   "cell_type": "markdown",
   "metadata": {},
   "source": [
    "Последнее уравнение в явном виде намекает на поиск собственных значений для $(\\frac{d^2}{d r^2}-2V)$. Для этого нужно приблизить  непрерыное выражение дискретным. Поскольку типично волновая функция экспоненциально затухает, можно считать, что $u(r) = 0$ при $r \\geq L$ для некоторого достаточно большого $L$. Таким образом мы получаем задачу на собственные значения с граничными условиями $u(0) = 0$ (т.к. $u(r) = r R(r)$) и $u(L) = 0$. \n",
    "* зададим шаг $h = L N^{-1},$ где $N$ - натуральное (разбиваем отрезок $[0,L]$ на N частей, h - шаг), $r_n = nh$ узлы сетки\n",
    "\n",
    "\n",
    "* вторая производная задается следующим отношением: $\\displaystyle{{u_n''} = \\frac{u_{n+1}-2u_n +u_{n-1}}{h^2}}$ (из ряда Тейлора). Обозначим \n",
    "$$u(r_n) = u_n$$\n",
    "$$u''(r_n) = u''_n$$\n",
    "Тогда $(u''(r))_n \\to u_n''(r):$\n",
    "\n",
    "\n",
    "$$\\displaystyle{u_n'' = -\\frac{1}{h^2} \\begin{bmatrix}\n",
    "-2 & 1 &0&0&0& \\cdots & 0 \\\\\n",
    "1 & -2 & 1& 0&0&\\cdots & 0 \\\\  \n",
    "0&1 & -2 & 1& 0&\\cdots & 0 \\\\  \n",
    "\\vdots & \\vdots &\\vdots & \\vdots & \\ddots & -2& 1  \\\\\n",
    "0 & 0&0 &0& \\cdots &1 & -2\n",
    "\\end{bmatrix}\n",
    "\\begin{bmatrix}\n",
    "u_1\n",
    "\\\\\n",
    "u_2\n",
    "\\\\\n",
    "u_3\n",
    "\\\\\n",
    "\\vdots\n",
    "\\\\\n",
    "u_n\n",
    "\\end{bmatrix}}$$ Заметим, что полученная матрица имеет трехдиагональный вид.\n",
    "\n",
    "\n",
    "* теперь нужно приблизить $(-2Vu)(r_n)$: \n",
    "$$(-2Vu)(r_n) = \\begin{bmatrix}\n",
    "-2V(r_1) & 0 &0&0&0& \\cdots & 0 \\\\\n",
    "0 & -2V(r_2) & 0& 0&0&\\cdots & 0 \\\\  \n",
    "0&0 & -2V(r_3) & 0& 0&\\cdots & 0 \\\\  \n",
    "\\vdots & \\vdots &\\vdots & \\vdots & \\ddots & \\vdots& \\vdots  \\\\\n",
    "0 & 0&0 &0& \\cdots &0 & -2V(r_{n-1})\n",
    "\\end{bmatrix}\n",
    "\\begin{bmatrix}\n",
    "u_1\n",
    "\\\\\n",
    "u_2\n",
    "\\\\\n",
    "u_3\n",
    "\\\\\n",
    "\\vdots\n",
    "\\\\\n",
    "u_n\n",
    "\\end{bmatrix}$$"
   ]
  },
  {
   "cell_type": "markdown",
   "metadata": {},
   "source": [
    "Можно проверить, что $\\displaystyle{||u_n''-u''|| \\sim O(h^2)}.$\n",
    "\n",
    "Теперь наша задача в явном виде найти собственные значения для суммы представленных матриц.\n"
   ]
  },
  {
   "cell_type": "markdown",
   "metadata": {},
   "source": [
    "### Изотропный осциллятор"
   ]
  },
  {
   "cell_type": "markdown",
   "metadata": {},
   "source": [
    "Потенциал задается:\n",
    "$$V(r) = \\frac{1}{2}m \\omega^2 r^2$$\n",
    "Заметим, что при $l=0$ имеем дело с обычным осциллятором.\n",
    "\n",
    "Для нахождения спектра известно следующее выражение:\n",
    "$$E = \\hbar \\omega (2n+l+\\frac{3}{2}), ~ n=0,~1,~2,...,$$\n",
    "которое, однако, сложно получить. \n"
   ]
  },
  {
   "cell_type": "markdown",
   "metadata": {},
   "source": [
    "Реализуем описанный численный метод и сравним с аналитическим решением.\n",
    "\n",
    "Перейдем в атомную систему единиц, тогда $\\hbar = 1, m=1,$ и положим $\\omega = \\sqrt{0.12}$"
   ]
  },
  {
   "cell_type": "code",
   "execution_count": 62,
   "metadata": {
    "collapsed": true
   },
   "outputs": [],
   "source": [
    "def harmonic_oscillator(l):\n",
    "    N = 1000 #количество разбиений\n",
    "    L = 20 #радиус меняется от 0 до 20\n",
    "    x = np.linspace(0, L, num=N+2)[1:-1] #строим разбиения\n",
    "    h = x[1]-x[0] #шаг\n",
    "    omega = np.sqrt(0.12)\n",
    "    #строим диагональную матрицу из значений потенциала в точках разбиения\n",
    "    A = np.diag(-omega**2 *x**2 - l*(l+1)/x**2) \n",
    "    #матрица Лапласиана\n",
    "    D = np.zeros((N, N))\n",
    "    for i in range(len(x)):\n",
    "        if i==0:\n",
    "            D[0][0] = 2\n",
    "            D[0][1] = -1\n",
    "        elif i==N-1:\n",
    "            D[N-1][N-1] = 2\n",
    "            D[N-1][N-2] = -1\n",
    "        else: \n",
    "            D[i][i]=2\n",
    "            D[i][i-1]=-1\n",
    "            D[i][i+1]=-1\n",
    "    D = -1/h**2*D\n",
    "    #итоговая левая часть\n",
    "    sys = D + A\n",
    "    #собсвенные значения\n",
    "    results =[]\n",
    "    eigs = -np.linalg.eigh(sys)[0]\n",
    "    for i in range(6):\n",
    "        results.append(eigs[-i-1]/2)\n",
    "    return results"
   ]
  },
  {
   "cell_type": "code",
   "execution_count": 63,
   "metadata": {
    "collapsed": true
   },
   "outputs": [],
   "source": [
    "def check_harmonic_oscillator(l):\n",
    "    n = [0,1,2,3,4,5]\n",
    "    lamb = np.sqrt(0.12)\n",
    "    E = []\n",
    "    for i in n:\n",
    "        E.append(lamb*(2*i+l+3/2))\n",
    "    return E"
   ]
  },
  {
   "cell_type": "code",
   "execution_count": 64,
   "metadata": {
    "collapsed": false
   },
   "outputs": [
    {
     "name": "stdout",
     "output_type": "stream",
     "text": [
      "Численный метод при l=0\n",
      "[0.51960775713188312, 1.2123981390087086, 1.9051645666390813, 2.5979070387813583, 3.2906255541921858, 3.9833201116287471]\n",
      "Аналитическое решение при l=0\n",
      "[0.51961524227066325, 1.2124355652982142, 1.9052558883257651, 2.598076211353316, 3.2908965343808667, 3.9837168574084179]\n"
     ]
    }
   ],
   "source": [
    "print('Численный метод при l=0')\n",
    "print(harmonic_oscillator(0))\n",
    "print('Аналитическое решение при l=0')\n",
    "print(check_harmonic_oscillator(0))"
   ]
  },
  {
   "cell_type": "code",
   "execution_count": 65,
   "metadata": {
    "collapsed": false
   },
   "outputs": [
    {
     "name": "stdout",
     "output_type": "stream",
     "text": [
      "Численный метод при l=1\n",
      "[0.86601592271631, 1.5588071034410182, 2.2515743303648574, 2.9443176022457078, 3.6370369178408293, 4.3297322759065757]\n",
      "Аналитическое решение при l=1\n",
      "[0.8660254037844386, 1.5588457268119895, 2.2516660498395407, 2.9444863728670914, 3.6373066958946425, 4.3301270189221936]\n"
     ]
    }
   ],
   "source": [
    "print('Численный метод при l=1')\n",
    "print(harmonic_oscillator(1))\n",
    "print('Аналитическое решение при l=1')\n",
    "print(check_harmonic_oscillator(1))"
   ]
  },
  {
   "cell_type": "code",
   "execution_count": 66,
   "metadata": {
    "collapsed": false
   },
   "outputs": [
    {
     "name": "stdout",
     "output_type": "stream",
     "text": [
      "Численный метод при l=2\n",
      "[1.2124280802075589, 1.9052218841207784, 2.5979917341362606, 3.290737629011232, 3.9834595675030426, 4.6761575483685167]\n",
      "Аналитическое решение при l=2\n",
      "[1.2124355652982142, 1.9052558883257651, 2.598076211353316, 3.2908965343808667, 3.9837168574084179, 4.676537180435969]\n"
     ]
    }
   ],
   "source": [
    "print('Численный метод при l=2')\n",
    "print(harmonic_oscillator(2))\n",
    "print('Аналитическое решение при l=2')\n",
    "print(check_harmonic_oscillator(2))"
   ]
  },
  {
   "cell_type": "markdown",
   "metadata": {},
   "source": [
    "Построим значения энергии для первых шести энергетических уровней при $l=0.$"
   ]
  },
  {
   "cell_type": "code",
   "execution_count": 67,
   "metadata": {
    "collapsed": true
   },
   "outputs": [],
   "source": [
    "def oscill(r,omega):\n",
    "    return 0.5 * omega**2 * r**2"
   ]
  },
  {
   "cell_type": "code",
   "execution_count": 76,
   "metadata": {
    "collapsed": false
   },
   "outputs": [],
   "source": [
    "N = 1000\n",
    "L = 20\n",
    "\n",
    "x = np.linspace(0, L, num=N+2)[1:-1]\n",
    "h = x[1]-x[0]\n",
    "l = 0\n",
    "omega = np.sqrt(0.12)"
   ]
  },
  {
   "cell_type": "code",
   "execution_count": 77,
   "metadata": {
    "collapsed": true
   },
   "outputs": [],
   "source": [
    "A = np.diag(oscill(x,omega) + l*(l+1)/x**2)"
   ]
  },
  {
   "cell_type": "code",
   "execution_count": 78,
   "metadata": {
    "collapsed": true
   },
   "outputs": [],
   "source": [
    "D = np.zeros((N, N))\n",
    "for i in range(len(x)):\n",
    "    if i==0:\n",
    "        D[0][0] = 2\n",
    "        D[0][1] = -1\n",
    "    elif i==N-1:\n",
    "        D[N-1][N-1] = 2\n",
    "        D[N-1][N-2] = -1\n",
    "    else: \n",
    "        D[i][i]=2\n",
    "        D[i][i-1]=-1\n",
    "        D[i][i+1]=-1\n",
    "D = -1/h**2*D"
   ]
  },
  {
   "cell_type": "code",
   "execution_count": 79,
   "metadata": {
    "collapsed": false
   },
   "outputs": [
    {
     "data": {
      "text/plain": [
       "[<matplotlib.lines.Line2D at 0x1326e37b8>]"
      ]
     },
     "execution_count": 79,
     "metadata": {},
     "output_type": "execute_result"
    },
    {
     "data": {
      "image/png": "[encoded data removed]",
      "text/plain": [
       "<matplotlib.figure.Figure at 0x10afd0860>"
      ]
     },
     "metadata": {},
     "output_type": "display_data"
    }
   ],
   "source": [
    "plt.plot(x,oscill(x,omega))"
   ]
  },
  {
   "cell_type": "code",
   "execution_count": 80,
   "metadata": {
    "collapsed": false
   },
   "outputs": [],
   "source": [
    "sys = -2*A+D"
   ]
  },
  {
   "cell_type": "code",
   "execution_count": 81,
   "metadata": {
    "collapsed": false
   },
   "outputs": [],
   "source": [
    "eigs = -np.linalg.eigvalsh(sys)"
   ]
  },
  {
   "cell_type": "code",
   "execution_count": 82,
   "metadata": {
    "collapsed": false
   },
   "outputs": [],
   "source": [
    "import seaborn as sns\n",
    "sns.set_style('white')"
   ]
  },
  {
   "cell_type": "code",
   "execution_count": 83,
   "metadata": {
    "collapsed": false
   },
   "outputs": [
    {
     "data": {
      "text/plain": [
       "(0, 4.2)"
      ]
     },
     "execution_count": 83,
     "metadata": {},
     "output_type": "execute_result"
    },
    {
     "data": {
      "image/png": "[encoded data removed]",
      "text/plain": [
       "<matplotlib.figure.Figure at 0x13028f898>"
      ]
     },
     "metadata": {},
     "output_type": "display_data"
    }
   ],
   "source": [
    "x = np.linspace(-15,15,1000)\n",
    "xs = np.linspace(-15,15,1000)\n",
    "y = oscill(x,omega)\n",
    "plt.plot(x,y)\n",
    "max_levels = 6\n",
    "for i in range(max_levels):\n",
    "    plt.plot(xs[oscill(xs,omega) < eigs[-max_levels+i]/2],np.ones_like(xs[oscill(xs,omega) < eigs[-max_levels+i]/2])*eigs[-max_levels+i]/2,label=r\"$E_{\"+str(-i+max_levels-1)+\"=\"+str(eigs[-max_levels+i]/2)[:5]+\"}$\")\n",
    "    \n",
    "plt.legend(loc='right')\n",
    "plt.grid(False)\n",
    "plt.ylim([0,4.2])\n"
   ]
  },
  {
   "cell_type": "code",
   "execution_count": null,
   "metadata": {
    "collapsed": true
   },
   "outputs": [],
   "source": []
  },
  {
   "cell_type": "code",
   "execution_count": null,
   "metadata": {
    "collapsed": true
   },
   "outputs": [],
   "source": []
  }
 ],
 "metadata": {
  "anaconda-cloud": {},
  "kernelspec": {
   "display_name": "Python [conda root]",
   "language": "python",
   "name": "conda-root-py"
  },
  "language_info": {
   "codemirror_mode": {
    "name": "ipython",
    "version": 3
   },
   "file_extension": ".py",
   "mimetype": "text/x-python",
   "name": "python",
   "nbconvert_exporter": "python",
   "pygments_lexer": "ipython3",
   "version": "3.5.2"
  }
 },
 "nbformat": 4,
 "nbformat_minor": 1
}
